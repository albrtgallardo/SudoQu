{
 "cells": [
  {
   "cell_type": "markdown",
   "id": "26754843-0367-4ac2-a6f6-c49aa5e3c4d2",
   "metadata": {},
   "source": [
    "# SudoQ"
   ]
  },
  {
   "cell_type": "markdown",
   "id": "61806df9-4582-4c4c-a2de-a289aa01abac",
   "metadata": {},
   "source": [
    "## Librerías"
   ]
  },
  {
   "cell_type": "code",
   "execution_count": 1,
   "id": "c847ff2c-da63-47b4-b5ca-04028ef16f15",
   "metadata": {},
   "outputs": [],
   "source": [
    "import numpy as np\n",
    "from qiskit.visualization import plot_histogram, array_to_latex, plot_state_city, plot_bloch_vector, plot_state_qsphere\n",
    "from qiskit import QuantumCircuit, transpile, QuantumRegister, ClassicalRegister\n",
    "from qiskit_aer import AerSimulator, QasmSimulator\n",
    "from qiskit.quantum_info import Statevector, DensityMatrix, Operator, partial_trace\n",
    "from qiskit_ibm_runtime import SamplerV2 as Sampler\n",
    "from qiskit_func import *\n",
    "import itertools\n",
    "import operator\n",
    "import math\n",
    "import time"
   ]
  },
  {
   "cell_type": "code",
   "execution_count": 2,
   "id": "8c906549-0a3c-414d-a8d8-3a876580d142",
   "metadata": {},
   "outputs": [],
   "source": [
    "IBM = IBMRuntime()\n",
    "service = IBM.qiskit_log()"
   ]
  },
  {
   "cell_type": "markdown",
   "id": "5e069f97-e086-4b8c-bb3f-22daf72a8de8",
   "metadata": {},
   "source": [
    "## Definición del Circuito"
   ]
  },
  {
   "cell_type": "code",
   "execution_count": 3,
   "id": "4ee31470-77d1-4ebf-b368-04614346773c",
   "metadata": {},
   "outputs": [
    {
     "data": {
      "text/latex": [
       "$$ |00000000000000\\rangle$$"
      ],
      "text/plain": [
       "<IPython.core.display.Latex object>"
      ]
     },
     "execution_count": 3,
     "metadata": {},
     "output_type": "execute_result"
    }
   ],
   "source": [
    "nQbits = 14;                        \n",
    "q      = QuantumRegister(nQbits)   \n",
    "c      = ClassicalRegister(nQbits) \n",
    "qc     = QuantumCircuit(q,c)\n",
    "Statevector(qc).draw(\"latex\")"
   ]
  },
  {
   "cell_type": "code",
   "execution_count": 4,
   "id": "8763e0d6-15e7-4c19-8759-7925afb16217",
   "metadata": {},
   "outputs": [
    {
     "data": {
      "text/latex": [
       "$$0.0078125 |00000000000000\\rangle+0.0078125 |00000000000001\\rangle+0.0078125 |00000000000010\\rangle+0.0078125 |00000000000011\\rangle+0.0078125 |00000000000100\\rangle+0.0078125 |00000000000101\\rangle + \\ldots +0.0078125 |11111111111011\\rangle+0.0078125 |11111111111100\\rangle+0.0078125 |11111111111101\\rangle+0.0078125 |11111111111110\\rangle+0.0078125 |11111111111111\\rangle$$"
      ],
      "text/plain": [
       "<IPython.core.display.Latex object>"
      ]
     },
     "execution_count": 4,
     "metadata": {},
     "output_type": "execute_result"
    }
   ],
   "source": [
    "qc.h(range(nQbits))\n",
    "Statevector(qc).draw(\"latex\")"
   ]
  },
  {
   "cell_type": "markdown",
   "id": "e5a5b98f-94a9-4e4b-88e3-cbbd9753ca0a",
   "metadata": {},
   "source": [
    "## Funciones"
   ]
  },
  {
   "cell_type": "code",
   "execution_count": 5,
   "id": "6c3656f4-1946-4b93-abf1-0eac1281acbc",
   "metadata": {},
   "outputs": [],
   "source": [
    "def permutation(classicalB):\n",
    "    aux      = [0, 1, 2, 3]                             \n",
    "    list_out = []\n",
    "    for i in aux:\n",
    "        if i not in classicalB:                         \n",
    "            list_out.append(i)\n",
    "    list_out_2 = list(itertools.permutations(list_out)) \n",
    "    return list_out_2"
   ]
  },
  {
   "cell_type": "code",
   "execution_count": 6,
   "id": "46593184-3d50-4584-8c50-bc3e62a921a4",
   "metadata": {},
   "outputs": [],
   "source": [
    "def qbit_to_binary(perm):\n",
    "    perm_bin = []\n",
    "    for item in list(perm):\n",
    "        binary_num = \"\"\n",
    "        for i in item:\n",
    "            prm_b = format(i,\"b\")\n",
    "            if len(prm_b)==1:                  \n",
    "                prm_b = '0' + prm_b\n",
    "            binary_num = binary_num + prm_b\n",
    "        perm_bin.append(binary_num)\n",
    "    return perm_bin"
   ]
  },
  {
   "cell_type": "code",
   "execution_count": 7,
   "id": "8571523a-81f8-4b02-91a9-b63f200a3490",
   "metadata": {},
   "outputs": [],
   "source": [
    "def oracle(qc, l_qbits, l_perm_bin):\n",
    "    for item in l_perm_bin:\n",
    "        cont = 0                                            \n",
    "        for j in item:\n",
    "            if j == '0':\n",
    "                qc.x(l_qbits[cont])\n",
    "            cont+=1\n",
    "        qc.h(l_qbits[0])\n",
    "        qc.mcx(l_qbits[1:len(l_qbits)],l_qbits[0])           \n",
    "        qc.h(l_qbits[0])\n",
    "        cont = 0\n",
    "        for j in item:                                      \n",
    "            if j == '0':\n",
    "                qc.x(l_qbits[cont])\n",
    "            cont+=1\n",
    "    Statevector(qc).draw(\"latex\")\n",
    "    return qc   "
   ]
  },
  {
   "cell_type": "code",
   "execution_count": 8,
   "id": "e4362a82-a57e-4309-82cb-6a28d3b28e5c",
   "metadata": {},
   "outputs": [],
   "source": [
    "def reflector(qc, l_qbits):\n",
    "    qc.h(l_qbits)                                       \n",
    "    qc.x(l_qbits)                                      \n",
    "    qc.h(l_qbits[0])\n",
    "    qc.mcx(l_qbits[1:len(l_qbits)],l_qbits[0]) \n",
    "    qc.h(l_qbits[0])\n",
    "    qc.x(l_qbits)                                      \n",
    "    qc.h(l_qbits)                                      \n",
    "    return qc  "
   ]
  },
  {
   "cell_type": "code",
   "execution_count": 9,
   "id": "c7bc3717-4b4c-4fd5-84a3-45e6e8fbfab8",
   "metadata": {},
   "outputs": [],
   "source": [
    "def grover(qc,l_qbits, l_bits):    \n",
    "    if len(l_qbits) == 2:           \n",
    "        n_rep = 1\n",
    "    elif len(l_qbits) == 4:\n",
    "        n_rep = 1\n",
    "    else:\n",
    "        n_rep = 2  \n",
    "    perm      = permutation(l_bits)      \n",
    "    perm_bin  = qbit_to_binary(perm) \n",
    "    for i in range(n_rep):          \n",
    "        oracle(qc,l_qbits,perm_bin)\n",
    "        reflector(qc,qc.qubits)\n",
    "    return qc  "
   ]
  },
  {
   "cell_type": "markdown",
   "id": "4b3250bf-7cc3-49fc-9a11-7cb3a38055b1",
   "metadata": {},
   "source": [
    "## Ejecución del Algoritmo"
   ]
  },
  {
   "cell_type": "code",
   "execution_count": 10,
   "id": "02b9e340-0bce-4649-8714-dfb72c4e3047",
   "metadata": {},
   "outputs": [
    {
     "name": "stdout",
     "output_type": "stream",
     "text": [
      "2.0351131319999696\n"
     ]
    }
   ],
   "source": [
    "start_time = time.time()\n",
    "for _ in range(2):\n",
    "\n",
    "    # Condiciones filas\n",
    "\n",
    "    grover(qc,[q[0],q[1]],[0,1,2])\n",
    "    grover(qc,[q[2],q[3],q[4],q[5]],[2,3])\n",
    "    grover(qc,[q[6],q[7],q[8],q[9]],[2,3])\n",
    "    grover(qc,[q[10],q[11],q[12],q[13]],[1,3])\n",
    "\n",
    "    # Condiciones columnas\n",
    "\n",
    "    grover(qc,[q[0],q[1],q[6],q[7]],[1,2])\n",
    "    grover(qc,[q[2],q[3],q[10],q[11]],[0,3])\n",
    "    grover(qc,[q[4],q[5],q[8],q[9]],[2,3])\n",
    "    grover(qc,[q[12],q[13]],[1,2,3])\n",
    "\n",
    "    # Condiciones bloques\n",
    "\n",
    "    grover(qc,[q[0],q[1],q[2],q[3]],[0,2])\n",
    "    grover(qc,[q[4],q[5]],[1,2,3])\n",
    "    grover(qc,[q[6],q[7],q[10],q[11]],[1,3])\n",
    "    grover(qc,[q[8],q[9],q[12],q[13]],[2,3])\n",
    "\n",
    "elapsed_time_grover = time.time() - start_time\n",
    "print(elapsed_time_grover/60)"
   ]
  },
  {
   "cell_type": "code",
   "execution_count": 11,
   "id": "a5b3829c-580c-4afa-94f1-171f3971558e",
   "metadata": {},
   "outputs": [],
   "source": [
    "qc.measure(q,c)\n",
    "simulator = AerSimulator()\n",
    "qc = transpile(qc, simulator)\n",
    "result = simulator.run(qc, shots=2048*128).result()\n",
    "counts = result.get_counts(qc)\n",
    "graph_dict=dict(sorted(counts.items(), key=operator.itemgetter(1))[-5:])"
   ]
  },
  {
   "cell_type": "code",
   "execution_count": 12,
   "id": "95cf801e-78f7-4331-8cf1-8a319d08be2b",
   "metadata": {},
   "outputs": [
    {
     "data": {
      "image/png": "[encoded data removed]",
      "text/plain": [
       "<Figure size 640x480 with 1 Axes>"
      ]
     },
     "execution_count": 12,
     "metadata": {},
     "output_type": "execute_result"
    }
   ],
   "source": [
    "plot_histogram(graph_dict)"
   ]
  },
  {
   "cell_type": "markdown",
   "id": "9134ce11-3279-4fce-93bf-34b73afea2cd",
   "metadata": {},
   "source": [
    "backend = service.least_busy(operational=True,simulator=False)\n",
    "qc = transpile(qc, backend)\n",
    "print(backend)"
   ]
  },
  {
   "cell_type": "markdown",
   "id": "5bca87ff-e7a4-4986-a0c5-f642f83c86ca",
   "metadata": {},
   "source": [
    "sampler = Sampler(backend)\n",
    "job = sampler.run([qc])\n",
    "result = job.result()"
   ]
  },
  {
   "cell_type": "markdown",
   "id": "1dcd0710-9816-4abe-ba83-6932552461d2",
   "metadata": {},
   "source": [
    "counts = result[0].data.c0.get_counts()\n",
    "print(sorted(counts.items(), key=operator.itemgetter(1))[-5:])"
   ]
  }
 ],
 "metadata": {
  "kernelspec": {
   "display_name": "Python 3 (ipykernel)",
   "language": "python",
   "name": "python3"
  },
  "language_info": {
   "codemirror_mode": {
    "name": "ipython",
    "version": 3
   },
   "file_extension": ".py",
   "mimetype": "text/x-python",
   "name": "python",
   "nbconvert_exporter": "python",
   "pygments_lexer": "ipython3",
   "version": "3.12.5"
  }
 },
 "nbformat": 4,
 "nbformat_minor": 5
}
